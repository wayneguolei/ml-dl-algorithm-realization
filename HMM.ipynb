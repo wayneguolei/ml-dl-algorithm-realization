{
 "cells": [
  {
   "cell_type": "code",
   "execution_count": 3,
   "metadata": {},
   "outputs": [],
   "source": [
    "## transition probabilities\n",
    "p_ss = 0.8\n",
    "p_sr = 0.2\n",
    "p_rs = 0.4\n",
    "p_rr = 0.6\n",
    "\n",
    "## emission probabilities\n",
    "p_sh = 0.8\n",
    "p_sg = 0.2\n",
    "p_rh = 0.4\n",
    "p_rg = 0.6\n",
    "\n",
    "## initial probabilities\n",
    "p_s = 2/3\n",
    "p_r = 1/3\n",
    "\n",
    "## viterbi algorithm\n",
    "def HMM_viterbi(modes):\n",
    "    probabilities = []\n",
    "    weather = []\n",
    "    if modes[0] == \"H\":\n",
    "        probabilities.append((p_s*p_sh,p_r*p_rh))\n",
    "    else:\n",
    "        probabilities.append((p_s*p_sg,p_r*p_rg))\n",
    "    \n",
    "    for i in range(1,len(modes)):\n",
    "        yesterday_sunny,yesterday_rainy = probabilities[-1]\n",
    "        if modes[i] == \"H\":\n",
    "            today_sunny = max(yesterday_sunny*p_ss*p_sh,yesterday_rainy*p_rs*p_sh)\n",
    "            today_rainy = max(yesterday_sunny*p_sr*p_rh,yesterday_rainy*p_rr*p_rh)\n",
    "            probabilities.append((today_sunny,today_rainy))\n",
    "        else:\n",
    "            today_sunny = max(yesterday_sunny*p_ss*p_sg,yesterday_rainy*p_rs*p_sg)\n",
    "            today_rainy = max(yesterday_sunny*p_sr*p_rg,yesterday_rainy*p_rr*p_rg)\n",
    "            probabilities.append((today_sunny,today_rainy))\n",
    "    \n",
    "    for p in probabilities:\n",
    "        if p[0]>p[1]:\n",
    "            weather.append('S')\n",
    "        else:\n",
    "            weather.append('R')\n",
    "    return weather"
   ]
  },
  {
   "cell_type": "code",
   "execution_count": 4,
   "metadata": {},
   "outputs": [
    {
     "data": {
      "text/plain": [
       "['S', 'S', 'S', 'R', 'R', 'S']"
      ]
     },
     "execution_count": 4,
     "metadata": {},
     "output_type": "execute_result"
    }
   ],
   "source": [
    "modes = ['H','H','G','G','G','H']\n",
    "HMM_viterbi(modes)"
   ]
  },
  {
   "cell_type": "code",
   "execution_count": null,
   "metadata": {},
   "outputs": [],
   "source": []
  }
 ],
 "metadata": {
  "kernelspec": {
   "display_name": "Python 3",
   "language": "python",
   "name": "python3"
  },
  "language_info": {
   "codemirror_mode": {
    "name": "ipython",
    "version": 3
   },
   "file_extension": ".py",
   "mimetype": "text/x-python",
   "name": "python",
   "nbconvert_exporter": "python",
   "pygments_lexer": "ipython3",
   "version": "3.6.4"
  }
 },
 "nbformat": 4,
 "nbformat_minor": 2
}
